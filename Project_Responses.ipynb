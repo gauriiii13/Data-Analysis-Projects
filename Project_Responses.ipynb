{
  "nbformat": 4,
  "nbformat_minor": 0,
  "metadata": {
    "colab": {
      "provenance": [],
      "authorship_tag": "ABX9TyORESrsvITPklNXpg8ZRPoq",
      "include_colab_link": true
    },
    "kernelspec": {
      "name": "python3",
      "display_name": "Python 3"
    },
    "language_info": {
      "name": "python"
    }
  },
  "cells": [
    {
      "cell_type": "markdown",
      "metadata": {
        "id": "view-in-github",
        "colab_type": "text"
      },
      "source": [
        "<a href=\"https://colab.research.google.com/github/gauriiii13/Data-Analysis-Projects/blob/main/Project_Responses.ipynb\" target=\"_parent\"><img src=\"https://colab.research.google.com/assets/colab-badge.svg\" alt=\"Open In Colab\"/></a>"
      ]
    },
    {
      "cell_type": "code",
      "execution_count": null,
      "metadata": {
        "id": "e0aw_yWPw6YL"
      },
      "outputs": [],
      "source": [
        "import numpy as np\n",
        "import pandas as pd\n",
        "import matplotlib\n",
        "import matplotlib.pyplot as plt\n",
        "import seaborn as sns\n",
        "%matplotlib inline"
      ]
    },
    {
      "cell_type": "code",
      "source": [
        "df=pd.read_excel('project.xlsx')"
      ],
      "metadata": {
        "id": "XDCOZy6NxU6I"
      },
      "execution_count": null,
      "outputs": []
    },
    {
      "cell_type": "code",
      "source": [
        "df"
      ],
      "metadata": {
        "colab": {
          "base_uri": "https://localhost:8080/",
          "height": 1000
        },
        "id": "Jz7EU3cRxazP",
        "outputId": "5fdd31f3-0e59-47ed-e60a-b960dda94b3c"
      },
      "execution_count": null,
      "outputs": [
        {
          "output_type": "execute_result",
          "data": {
            "text/plain": [
              "                  Timestamp             You are a  \\\n",
              "0   2023-04-29 13:20:29.671  Contributor/To Learn   \n",
              "1   2023-04-29 19:50:48.472   Contributor/Learner   \n",
              "2   2023-04-29 20:12:37.698   Contributor/Learner   \n",
              "3   2023-04-29 20:16:09.964   Contributor/Learner   \n",
              "4   2023-04-29 20:21:17.780   Contributor/Learner   \n",
              "..                      ...                   ...   \n",
              "118 2023-05-05 14:31:36.889   Contributor/Learner   \n",
              "119 2023-05-08 20:38:35.544   Contributor/Learner   \n",
              "120 2023-05-08 20:39:26.876   Contributor/Learner   \n",
              "121 2023-05-09 10:22:52.377   Contributor/Learner   \n",
              "122 2023-05-12 10:29:52.456   Contributor/Learner   \n",
              "\n",
              "                      You would like to contribute in               Full Name  \\\n",
              "0    AI/ML, Product/Data Analyst, Design - ui/ux, etc.          Pranav Kumar    \n",
              "1                                                  NaN            Ridhi Gupta   \n",
              "2                                    Frontend, Backend          Yogesh Pandey   \n",
              "3                                             Frontend         Mankaran Singh   \n",
              "4              Frontend, Backend, Content - of the app  Shivansh Pratap Singh   \n",
              "..                                                 ...                    ...   \n",
              "118                                              AI/ML             Anika Daga   \n",
              "119                                           Frontend               Govinda    \n",
              "120                     Frontend, Product/Data Analyst               Govinda    \n",
              "121                        AI/ML, Product/Data Analyst         Kanika Mittal    \n",
              "122                      Android, Content - of the app      Dhiraj Kumar Jha    \n",
              "\n",
              "                                   Email  \\\n",
              "0              pranavkumarnair@gmail.com   \n",
              "1               ridhigupta1603@gmail.com   \n",
              "2               yogesh1pandey1@gmail.com   \n",
              "3           mankaransingh22747@gmail.com   \n",
              "4        shivanshsingh13112003@gmail.com   \n",
              "..                                   ...   \n",
              "118               anikadaga.31@gmail.com   \n",
              "119  govinda35614902022@msijanakpuri.com   \n",
              "120  govinda35614902022@msijanakpuri.com   \n",
              "121           kanikamittal2003@gmail.com   \n",
              "122              dhirajrock739@gmail.com   \n",
              "\n",
              "    Phone Number(Whatsapp , to add in respective groups)  \\\n",
              "0                                           9821690127     \n",
              "1                                            885907247     \n",
              "2                                           9821927561     \n",
              "3                                           7042812002     \n",
              "4                                           9650968010     \n",
              "..                                                 ...     \n",
              "118                                         8178160750     \n",
              "119                                         9412711628     \n",
              "120                                         9412711628     \n",
              "121                                         8512823542     \n",
              "122                                         9289228351     \n",
              "\n",
              "    Current year of studying            Branch/Stream  \\\n",
              "0                   2nd year                      CSE   \n",
              "1                   2nd year                       IT   \n",
              "2                   2nd year                       CS   \n",
              "3                   2nd year  Information technology    \n",
              "4                   2nd year                      CSE   \n",
              "..                       ...                      ...   \n",
              "118                 1st year                      ECE   \n",
              "119                 1st year                      Bca   \n",
              "120                 1st year                      Bca   \n",
              "121                 2nd year                      BCA   \n",
              "122                 2nd year                       IT   \n",
              "\n",
              "    You have knowledge of / interested in / worked in   \\\n",
              "0    Knowlege of ML algorithms regarding classifica...   \n",
              "1                                              Android   \n",
              "2         React, JS, Bootstrap, Next.js, Node , Django   \n",
              "3                                Frontend development    \n",
              "4    HTML, CSS, javaScript And knowledge of Data St...   \n",
              "..                                                 ...   \n",
              "118  knowledge of programming languages-Python, C ,...   \n",
              "119                                    Html , css , js   \n",
              "120                                      Html ,css ,js   \n",
              "121                                       Data science   \n",
              "122                                  Learning Android    \n",
              "\n",
              "              Your Portfolio (drive link)   [optional]  \\\n",
              "0                                                   Na   \n",
              "1                                                  NaN   \n",
              "2    https://drive.google.com/file/d/1m3UHITj-Niq8H...   \n",
              "3                                                  NaN   \n",
              "4                                                  NaN   \n",
              "..                                                 ...   \n",
              "118                                                NaN   \n",
              "119                                                NaN   \n",
              "120                                                NaN   \n",
              "121                                                NaN   \n",
              "122                                                NaN   \n",
              "\n",
              "                 Github profile link You would like to contribute in /mentor  \\\n",
              "0                                 Na                                     NaN   \n",
              "1                                NaN                                     NaN   \n",
              "2            github.com/programerr01                                     NaN   \n",
              "3                                NaN                                     NaN   \n",
              "4    https://github.com/shivansh1311                                     NaN   \n",
              "..                               ...                                     ...   \n",
              "118                              NaN                                     NaN   \n",
              "119                              NaN                                     NaN   \n",
              "120                               Ny                                     NaN   \n",
              "121                              NaN                                     NaN   \n",
              "122                              NaN                                     NaN   \n",
              "\n",
              "    Name Email.1 Your Portfolio (drive link)  \\\n",
              "0    NaN     NaN                         NaN   \n",
              "1    NaN     NaN                         NaN   \n",
              "2    NaN     NaN                         NaN   \n",
              "3    NaN     NaN                         NaN   \n",
              "4    NaN     NaN                         NaN   \n",
              "..   ...     ...                         ...   \n",
              "118  NaN     NaN                         NaN   \n",
              "119  NaN     NaN                         NaN   \n",
              "120  NaN     NaN                         NaN   \n",
              "121  NaN     NaN                         NaN   \n",
              "122  NaN     NaN                         NaN   \n",
              "\n",
              "     Phone Number(Whatsapp , to add in respective groups).1  \\\n",
              "0                                                  NaN        \n",
              "1                                                  NaN        \n",
              "2                                                  NaN        \n",
              "3                                                  NaN        \n",
              "4                                                  NaN        \n",
              "..                                                 ...        \n",
              "118                                                NaN        \n",
              "119                                                NaN        \n",
              "120                                                NaN        \n",
              "121                                                NaN        \n",
              "122                                                NaN        \n",
              "\n",
              "    Github profile link.1  \n",
              "0                     NaN  \n",
              "1                     NaN  \n",
              "2                     NaN  \n",
              "3                     NaN  \n",
              "4                     NaN  \n",
              "..                    ...  \n",
              "118                   NaN  \n",
              "119                   NaN  \n",
              "120                   NaN  \n",
              "121                   NaN  \n",
              "122                   NaN  \n",
              "\n",
              "[123 rows x 17 columns]"
            ],
            "text/html": [
              "\n",
              "  <div id=\"df-a0e42893-ad5a-49c3-a5b9-a99ea79b29d6\">\n",
              "    <div class=\"colab-df-container\">\n",
              "      <div>\n",
              "<style scoped>\n",
              "    .dataframe tbody tr th:only-of-type {\n",
              "        vertical-align: middle;\n",
              "    }\n",
              "\n",
              "    .dataframe tbody tr th {\n",
              "        vertical-align: top;\n",
              "    }\n",
              "\n",
              "    .dataframe thead th {\n",
              "        text-align: right;\n",
              "    }\n",
              "</style>\n",
              "<table border=\"1\" class=\"dataframe\">\n",
              "  <thead>\n",
              "    <tr style=\"text-align: right;\">\n",
              "      <th></th>\n",
              "      <th>Timestamp</th>\n",
              "      <th>You are a</th>\n",
              "      <th>You would like to contribute in</th>\n",
              "      <th>Full Name</th>\n",
              "      <th>Email</th>\n",
              "      <th>Phone Number(Whatsapp , to add in respective groups)</th>\n",
              "      <th>Current year of studying</th>\n",
              "      <th>Branch/Stream</th>\n",
              "      <th>You have knowledge of / interested in / worked in</th>\n",
              "      <th>Your Portfolio (drive link)   [optional]</th>\n",
              "      <th>Github profile link</th>\n",
              "      <th>You would like to contribute in /mentor</th>\n",
              "      <th>Name</th>\n",
              "      <th>Email.1</th>\n",
              "      <th>Your Portfolio (drive link)</th>\n",
              "      <th>Phone Number(Whatsapp , to add in respective groups).1</th>\n",
              "      <th>Github profile link.1</th>\n",
              "    </tr>\n",
              "  </thead>\n",
              "  <tbody>\n",
              "    <tr>\n",
              "      <th>0</th>\n",
              "      <td>2023-04-29 13:20:29.671</td>\n",
              "      <td>Contributor/To Learn</td>\n",
              "      <td>AI/ML, Product/Data Analyst, Design - ui/ux, etc.</td>\n",
              "      <td>Pranav Kumar</td>\n",
              "      <td>pranavkumarnair@gmail.com</td>\n",
              "      <td>9821690127</td>\n",
              "      <td>2nd year</td>\n",
              "      <td>CSE</td>\n",
              "      <td>Knowlege of ML algorithms regarding classifica...</td>\n",
              "      <td>Na</td>\n",
              "      <td>Na</td>\n",
              "      <td>NaN</td>\n",
              "      <td>NaN</td>\n",
              "      <td>NaN</td>\n",
              "      <td>NaN</td>\n",
              "      <td>NaN</td>\n",
              "      <td>NaN</td>\n",
              "    </tr>\n",
              "    <tr>\n",
              "      <th>1</th>\n",
              "      <td>2023-04-29 19:50:48.472</td>\n",
              "      <td>Contributor/Learner</td>\n",
              "      <td>NaN</td>\n",
              "      <td>Ridhi Gupta</td>\n",
              "      <td>ridhigupta1603@gmail.com</td>\n",
              "      <td>885907247</td>\n",
              "      <td>2nd year</td>\n",
              "      <td>IT</td>\n",
              "      <td>Android</td>\n",
              "      <td>NaN</td>\n",
              "      <td>NaN</td>\n",
              "      <td>NaN</td>\n",
              "      <td>NaN</td>\n",
              "      <td>NaN</td>\n",
              "      <td>NaN</td>\n",
              "      <td>NaN</td>\n",
              "      <td>NaN</td>\n",
              "    </tr>\n",
              "    <tr>\n",
              "      <th>2</th>\n",
              "      <td>2023-04-29 20:12:37.698</td>\n",
              "      <td>Contributor/Learner</td>\n",
              "      <td>Frontend, Backend</td>\n",
              "      <td>Yogesh Pandey</td>\n",
              "      <td>yogesh1pandey1@gmail.com</td>\n",
              "      <td>9821927561</td>\n",
              "      <td>2nd year</td>\n",
              "      <td>CS</td>\n",
              "      <td>React, JS, Bootstrap, Next.js, Node , Django</td>\n",
              "      <td>https://drive.google.com/file/d/1m3UHITj-Niq8H...</td>\n",
              "      <td>github.com/programerr01</td>\n",
              "      <td>NaN</td>\n",
              "      <td>NaN</td>\n",
              "      <td>NaN</td>\n",
              "      <td>NaN</td>\n",
              "      <td>NaN</td>\n",
              "      <td>NaN</td>\n",
              "    </tr>\n",
              "    <tr>\n",
              "      <th>3</th>\n",
              "      <td>2023-04-29 20:16:09.964</td>\n",
              "      <td>Contributor/Learner</td>\n",
              "      <td>Frontend</td>\n",
              "      <td>Mankaran Singh</td>\n",
              "      <td>mankaransingh22747@gmail.com</td>\n",
              "      <td>7042812002</td>\n",
              "      <td>2nd year</td>\n",
              "      <td>Information technology</td>\n",
              "      <td>Frontend development</td>\n",
              "      <td>NaN</td>\n",
              "      <td>NaN</td>\n",
              "      <td>NaN</td>\n",
              "      <td>NaN</td>\n",
              "      <td>NaN</td>\n",
              "      <td>NaN</td>\n",
              "      <td>NaN</td>\n",
              "      <td>NaN</td>\n",
              "    </tr>\n",
              "    <tr>\n",
              "      <th>4</th>\n",
              "      <td>2023-04-29 20:21:17.780</td>\n",
              "      <td>Contributor/Learner</td>\n",
              "      <td>Frontend, Backend, Content - of the app</td>\n",
              "      <td>Shivansh Pratap Singh</td>\n",
              "      <td>shivanshsingh13112003@gmail.com</td>\n",
              "      <td>9650968010</td>\n",
              "      <td>2nd year</td>\n",
              "      <td>CSE</td>\n",
              "      <td>HTML, CSS, javaScript And knowledge of Data St...</td>\n",
              "      <td>NaN</td>\n",
              "      <td>https://github.com/shivansh1311</td>\n",
              "      <td>NaN</td>\n",
              "      <td>NaN</td>\n",
              "      <td>NaN</td>\n",
              "      <td>NaN</td>\n",
              "      <td>NaN</td>\n",
              "      <td>NaN</td>\n",
              "    </tr>\n",
              "    <tr>\n",
              "      <th>...</th>\n",
              "      <td>...</td>\n",
              "      <td>...</td>\n",
              "      <td>...</td>\n",
              "      <td>...</td>\n",
              "      <td>...</td>\n",
              "      <td>...</td>\n",
              "      <td>...</td>\n",
              "      <td>...</td>\n",
              "      <td>...</td>\n",
              "      <td>...</td>\n",
              "      <td>...</td>\n",
              "      <td>...</td>\n",
              "      <td>...</td>\n",
              "      <td>...</td>\n",
              "      <td>...</td>\n",
              "      <td>...</td>\n",
              "      <td>...</td>\n",
              "    </tr>\n",
              "    <tr>\n",
              "      <th>118</th>\n",
              "      <td>2023-05-05 14:31:36.889</td>\n",
              "      <td>Contributor/Learner</td>\n",
              "      <td>AI/ML</td>\n",
              "      <td>Anika Daga</td>\n",
              "      <td>anikadaga.31@gmail.com</td>\n",
              "      <td>8178160750</td>\n",
              "      <td>1st year</td>\n",
              "      <td>ECE</td>\n",
              "      <td>knowledge of programming languages-Python, C ,...</td>\n",
              "      <td>NaN</td>\n",
              "      <td>NaN</td>\n",
              "      <td>NaN</td>\n",
              "      <td>NaN</td>\n",
              "      <td>NaN</td>\n",
              "      <td>NaN</td>\n",
              "      <td>NaN</td>\n",
              "      <td>NaN</td>\n",
              "    </tr>\n",
              "    <tr>\n",
              "      <th>119</th>\n",
              "      <td>2023-05-08 20:38:35.544</td>\n",
              "      <td>Contributor/Learner</td>\n",
              "      <td>Frontend</td>\n",
              "      <td>Govinda</td>\n",
              "      <td>govinda35614902022@msijanakpuri.com</td>\n",
              "      <td>9412711628</td>\n",
              "      <td>1st year</td>\n",
              "      <td>Bca</td>\n",
              "      <td>Html , css , js</td>\n",
              "      <td>NaN</td>\n",
              "      <td>NaN</td>\n",
              "      <td>NaN</td>\n",
              "      <td>NaN</td>\n",
              "      <td>NaN</td>\n",
              "      <td>NaN</td>\n",
              "      <td>NaN</td>\n",
              "      <td>NaN</td>\n",
              "    </tr>\n",
              "    <tr>\n",
              "      <th>120</th>\n",
              "      <td>2023-05-08 20:39:26.876</td>\n",
              "      <td>Contributor/Learner</td>\n",
              "      <td>Frontend, Product/Data Analyst</td>\n",
              "      <td>Govinda</td>\n",
              "      <td>govinda35614902022@msijanakpuri.com</td>\n",
              "      <td>9412711628</td>\n",
              "      <td>1st year</td>\n",
              "      <td>Bca</td>\n",
              "      <td>Html ,css ,js</td>\n",
              "      <td>NaN</td>\n",
              "      <td>Ny</td>\n",
              "      <td>NaN</td>\n",
              "      <td>NaN</td>\n",
              "      <td>NaN</td>\n",
              "      <td>NaN</td>\n",
              "      <td>NaN</td>\n",
              "      <td>NaN</td>\n",
              "    </tr>\n",
              "    <tr>\n",
              "      <th>121</th>\n",
              "      <td>2023-05-09 10:22:52.377</td>\n",
              "      <td>Contributor/Learner</td>\n",
              "      <td>AI/ML, Product/Data Analyst</td>\n",
              "      <td>Kanika Mittal</td>\n",
              "      <td>kanikamittal2003@gmail.com</td>\n",
              "      <td>8512823542</td>\n",
              "      <td>2nd year</td>\n",
              "      <td>BCA</td>\n",
              "      <td>Data science</td>\n",
              "      <td>NaN</td>\n",
              "      <td>NaN</td>\n",
              "      <td>NaN</td>\n",
              "      <td>NaN</td>\n",
              "      <td>NaN</td>\n",
              "      <td>NaN</td>\n",
              "      <td>NaN</td>\n",
              "      <td>NaN</td>\n",
              "    </tr>\n",
              "    <tr>\n",
              "      <th>122</th>\n",
              "      <td>2023-05-12 10:29:52.456</td>\n",
              "      <td>Contributor/Learner</td>\n",
              "      <td>Android, Content - of the app</td>\n",
              "      <td>Dhiraj Kumar Jha</td>\n",
              "      <td>dhirajrock739@gmail.com</td>\n",
              "      <td>9289228351</td>\n",
              "      <td>2nd year</td>\n",
              "      <td>IT</td>\n",
              "      <td>Learning Android</td>\n",
              "      <td>NaN</td>\n",
              "      <td>NaN</td>\n",
              "      <td>NaN</td>\n",
              "      <td>NaN</td>\n",
              "      <td>NaN</td>\n",
              "      <td>NaN</td>\n",
              "      <td>NaN</td>\n",
              "      <td>NaN</td>\n",
              "    </tr>\n",
              "  </tbody>\n",
              "</table>\n",
              "<p>123 rows × 17 columns</p>\n",
              "</div>\n",
              "      <button class=\"colab-df-convert\" onclick=\"convertToInteractive('df-a0e42893-ad5a-49c3-a5b9-a99ea79b29d6')\"\n",
              "              title=\"Convert this dataframe to an interactive table.\"\n",
              "              style=\"display:none;\">\n",
              "        \n",
              "  <svg xmlns=\"http://www.w3.org/2000/svg\" height=\"24px\"viewBox=\"0 0 24 24\"\n",
              "       width=\"24px\">\n",
              "    <path d=\"M0 0h24v24H0V0z\" fill=\"none\"/>\n",
              "    <path d=\"M18.56 5.44l.94 2.06.94-2.06 2.06-.94-2.06-.94-.94-2.06-.94 2.06-2.06.94zm-11 1L8.5 8.5l.94-2.06 2.06-.94-2.06-.94L8.5 2.5l-.94 2.06-2.06.94zm10 10l.94 2.06.94-2.06 2.06-.94-2.06-.94-.94-2.06-.94 2.06-2.06.94z\"/><path d=\"M17.41 7.96l-1.37-1.37c-.4-.4-.92-.59-1.43-.59-.52 0-1.04.2-1.43.59L10.3 9.45l-7.72 7.72c-.78.78-.78 2.05 0 2.83L4 21.41c.39.39.9.59 1.41.59.51 0 1.02-.2 1.41-.59l7.78-7.78 2.81-2.81c.8-.78.8-2.07 0-2.86zM5.41 20L4 18.59l7.72-7.72 1.47 1.35L5.41 20z\"/>\n",
              "  </svg>\n",
              "      </button>\n",
              "      \n",
              "  <style>\n",
              "    .colab-df-container {\n",
              "      display:flex;\n",
              "      flex-wrap:wrap;\n",
              "      gap: 12px;\n",
              "    }\n",
              "\n",
              "    .colab-df-convert {\n",
              "      background-color: #E8F0FE;\n",
              "      border: none;\n",
              "      border-radius: 50%;\n",
              "      cursor: pointer;\n",
              "      display: none;\n",
              "      fill: #1967D2;\n",
              "      height: 32px;\n",
              "      padding: 0 0 0 0;\n",
              "      width: 32px;\n",
              "    }\n",
              "\n",
              "    .colab-df-convert:hover {\n",
              "      background-color: #E2EBFA;\n",
              "      box-shadow: 0px 1px 2px rgba(60, 64, 67, 0.3), 0px 1px 3px 1px rgba(60, 64, 67, 0.15);\n",
              "      fill: #174EA6;\n",
              "    }\n",
              "\n",
              "    [theme=dark] .colab-df-convert {\n",
              "      background-color: #3B4455;\n",
              "      fill: #D2E3FC;\n",
              "    }\n",
              "\n",
              "    [theme=dark] .colab-df-convert:hover {\n",
              "      background-color: #434B5C;\n",
              "      box-shadow: 0px 1px 3px 1px rgba(0, 0, 0, 0.15);\n",
              "      filter: drop-shadow(0px 1px 2px rgba(0, 0, 0, 0.3));\n",
              "      fill: #FFFFFF;\n",
              "    }\n",
              "  </style>\n",
              "\n",
              "      <script>\n",
              "        const buttonEl =\n",
              "          document.querySelector('#df-a0e42893-ad5a-49c3-a5b9-a99ea79b29d6 button.colab-df-convert');\n",
              "        buttonEl.style.display =\n",
              "          google.colab.kernel.accessAllowed ? 'block' : 'none';\n",
              "\n",
              "        async function convertToInteractive(key) {\n",
              "          const element = document.querySelector('#df-a0e42893-ad5a-49c3-a5b9-a99ea79b29d6');\n",
              "          const dataTable =\n",
              "            await google.colab.kernel.invokeFunction('convertToInteractive',\n",
              "                                                     [key], {});\n",
              "          if (!dataTable) return;\n",
              "\n",
              "          const docLinkHtml = 'Like what you see? Visit the ' +\n",
              "            '<a target=\"_blank\" href=https://colab.research.google.com/notebooks/data_table.ipynb>data table notebook</a>'\n",
              "            + ' to learn more about interactive tables.';\n",
              "          element.innerHTML = '';\n",
              "          dataTable['output_type'] = 'display_data';\n",
              "          await google.colab.output.renderOutput(dataTable, element);\n",
              "          const docLink = document.createElement('div');\n",
              "          docLink.innerHTML = docLinkHtml;\n",
              "          element.appendChild(docLink);\n",
              "        }\n",
              "      </script>\n",
              "    </div>\n",
              "  </div>\n",
              "  "
            ]
          },
          "metadata": {},
          "execution_count": 75
        }
      ]
    },
    {
      "cell_type": "code",
      "source": [
        "df.info()"
      ],
      "metadata": {
        "colab": {
          "base_uri": "https://localhost:8080/"
        },
        "id": "BmFo-tsyxbzr",
        "outputId": "e0fd83cb-797a-4733-a157-d27eb018eddf"
      },
      "execution_count": null,
      "outputs": [
        {
          "output_type": "stream",
          "name": "stdout",
          "text": [
            "<class 'pandas.core.frame.DataFrame'>\n",
            "RangeIndex: 123 entries, 0 to 122\n",
            "Data columns (total 17 columns):\n",
            " #   Column                                                  Non-Null Count  Dtype         \n",
            "---  ------                                                  --------------  -----         \n",
            " 0   Timestamp                                               123 non-null    datetime64[ns]\n",
            " 1   You are a                                               123 non-null    object        \n",
            " 2   You would like to contribute in                         120 non-null    object        \n",
            " 3   Full Name                                               121 non-null    object        \n",
            " 4   Email                                                   121 non-null    object        \n",
            " 5   Phone Number(Whatsapp , to add in respective groups)    121 non-null    object        \n",
            " 6   Current year of studying                                121 non-null    object        \n",
            " 7   Branch/Stream                                           121 non-null    object        \n",
            " 8   You have knowledge of / interested in / worked in       121 non-null    object        \n",
            " 9   Your Portfolio (drive link)   [optional]                21 non-null     object        \n",
            " 10  Github profile link                                     57 non-null     object        \n",
            " 11  You would like to contribute in /mentor                 2 non-null      object        \n",
            " 12  Name                                                    2 non-null      object        \n",
            " 13  Email.1                                                 2 non-null      object        \n",
            " 14  Your Portfolio (drive link)                             2 non-null      object        \n",
            " 15  Phone Number(Whatsapp , to add in respective groups).1  2 non-null      float64       \n",
            " 16  Github profile link.1                                   1 non-null      object        \n",
            "dtypes: datetime64[ns](1), float64(1), object(15)\n",
            "memory usage: 16.5+ KB\n"
          ]
        }
      ]
    },
    {
      "cell_type": "markdown",
      "source": [
        "Entry at index 119 is redundant and it must be removed"
      ],
      "metadata": {
        "id": "aQ39GXlYgE3N"
      }
    },
    {
      "cell_type": "code",
      "source": [
        "df.drop(df.index[119],inplace=True)"
      ],
      "metadata": {
        "id": "OwAb_8mAfZo-"
      },
      "execution_count": null,
      "outputs": []
    },
    {
      "cell_type": "code",
      "source": [
        "df.rename(columns={'You would like to contribute in ':'Contribution'},inplace=True)\n",
        "df.columns"
      ],
      "metadata": {
        "colab": {
          "base_uri": "https://localhost:8080/"
        },
        "id": "HhZwEA2eJ8h6",
        "outputId": "1906d11d-0097-4824-ad26-e2d73475a215"
      },
      "execution_count": null,
      "outputs": [
        {
          "output_type": "execute_result",
          "data": {
            "text/plain": [
              "Index(['Timestamp', 'You are a', 'Contribution', 'Full Name', 'Email',\n",
              "       'Phone Number(Whatsapp , to add in respective groups)',\n",
              "       'Current year of studying', 'Branch/Stream',\n",
              "       'You have knowledge of / interested in / worked in ',\n",
              "       'Your Portfolio (drive link)   [optional]', 'Github profile link',\n",
              "       'You would like to contribute in /mentor', 'Name', 'Email.1',\n",
              "       'Your Portfolio (drive link)',\n",
              "       'Phone Number(Whatsapp , to add in respective groups).1',\n",
              "       'Github profile link.1'],\n",
              "      dtype='object')"
            ]
          },
          "metadata": {},
          "execution_count": 78
        }
      ]
    },
    {
      "cell_type": "markdown",
      "source": [
        "The columns after the 10th column contain mostly NaN values. So they can be removed for better understanding of the data"
      ],
      "metadata": {
        "id": "5SsqGlY10JKL"
      }
    },
    {
      "cell_type": "code",
      "source": [
        "df.drop(['You would like to contribute in /mentor','Name','Email.1','Your Portfolio (drive link)','Phone Number(Whatsapp , to add in respective groups).1','Github profile link.1'],axis=1,inplace=True)"
      ],
      "metadata": {
        "id": "rvPzOnDfzug-"
      },
      "execution_count": null,
      "outputs": []
    },
    {
      "cell_type": "code",
      "source": [
        "df.info()"
      ],
      "metadata": {
        "colab": {
          "base_uri": "https://localhost:8080/"
        },
        "id": "ja-Su7iv0CsQ",
        "outputId": "173029c8-76de-4478-dfbf-10efebbc3573"
      },
      "execution_count": null,
      "outputs": [
        {
          "output_type": "stream",
          "name": "stdout",
          "text": [
            "<class 'pandas.core.frame.DataFrame'>\n",
            "Int64Index: 122 entries, 0 to 122\n",
            "Data columns (total 11 columns):\n",
            " #   Column                                                Non-Null Count  Dtype         \n",
            "---  ------                                                --------------  -----         \n",
            " 0   Timestamp                                             122 non-null    datetime64[ns]\n",
            " 1   You are a                                             122 non-null    object        \n",
            " 2   Contribution                                          119 non-null    object        \n",
            " 3   Full Name                                             120 non-null    object        \n",
            " 4   Email                                                 120 non-null    object        \n",
            " 5   Phone Number(Whatsapp , to add in respective groups)  120 non-null    object        \n",
            " 6   Current year of studying                              120 non-null    object        \n",
            " 7   Branch/Stream                                         120 non-null    object        \n",
            " 8   You have knowledge of / interested in / worked in     120 non-null    object        \n",
            " 9   Your Portfolio (drive link)   [optional]              21 non-null     object        \n",
            " 10  Github profile link                                   57 non-null     object        \n",
            "dtypes: datetime64[ns](1), object(10)\n",
            "memory usage: 11.4+ KB\n"
          ]
        }
      ]
    },
    {
      "cell_type": "code",
      "source": [
        "df.info()"
      ],
      "metadata": {
        "colab": {
          "base_uri": "https://localhost:8080/"
        },
        "id": "Ekbz6fQ2LY00",
        "outputId": "f0d181b3-c48e-48d5-acb9-b3a73e4f56d5"
      },
      "execution_count": null,
      "outputs": [
        {
          "output_type": "stream",
          "name": "stdout",
          "text": [
            "<class 'pandas.core.frame.DataFrame'>\n",
            "Int64Index: 122 entries, 0 to 122\n",
            "Data columns (total 11 columns):\n",
            " #   Column                                                Non-Null Count  Dtype         \n",
            "---  ------                                                --------------  -----         \n",
            " 0   Timestamp                                             122 non-null    datetime64[ns]\n",
            " 1   You are a                                             122 non-null    object        \n",
            " 2   Contribution                                          119 non-null    object        \n",
            " 3   Full Name                                             120 non-null    object        \n",
            " 4   Email                                                 120 non-null    object        \n",
            " 5   Phone Number(Whatsapp , to add in respective groups)  120 non-null    object        \n",
            " 6   Current year of studying                              120 non-null    object        \n",
            " 7   Branch/Stream                                         120 non-null    object        \n",
            " 8   You have knowledge of / interested in / worked in     120 non-null    object        \n",
            " 9   Your Portfolio (drive link)   [optional]              21 non-null     object        \n",
            " 10  Github profile link                                   57 non-null     object        \n",
            "dtypes: datetime64[ns](1), object(10)\n",
            "memory usage: 11.4+ KB\n"
          ]
        }
      ]
    },
    {
      "cell_type": "code",
      "source": [
        "df['You are a'].unique()"
      ],
      "metadata": {
        "colab": {
          "base_uri": "https://localhost:8080/"
        },
        "id": "s77PHmDz1Trr",
        "outputId": "15a202f3-0a84-4341-b08a-44528318e543"
      },
      "execution_count": null,
      "outputs": [
        {
          "output_type": "execute_result",
          "data": {
            "text/plain": [
              "array(['Contributor/To Learn', 'Contributor/Learner', 'Mentor'],\n",
              "      dtype=object)"
            ]
          },
          "metadata": {},
          "execution_count": 82
        }
      ]
    },
    {
      "cell_type": "code",
      "source": [
        "df.info()"
      ],
      "metadata": {
        "colab": {
          "base_uri": "https://localhost:8080/"
        },
        "id": "AJJfi9mVLbly",
        "outputId": "4bbb6c97-744a-44dd-d8c9-3c9f8dac03a4"
      },
      "execution_count": null,
      "outputs": [
        {
          "output_type": "stream",
          "name": "stdout",
          "text": [
            "<class 'pandas.core.frame.DataFrame'>\n",
            "Int64Index: 122 entries, 0 to 122\n",
            "Data columns (total 11 columns):\n",
            " #   Column                                                Non-Null Count  Dtype         \n",
            "---  ------                                                --------------  -----         \n",
            " 0   Timestamp                                             122 non-null    datetime64[ns]\n",
            " 1   You are a                                             122 non-null    object        \n",
            " 2   Contribution                                          119 non-null    object        \n",
            " 3   Full Name                                             120 non-null    object        \n",
            " 4   Email                                                 120 non-null    object        \n",
            " 5   Phone Number(Whatsapp , to add in respective groups)  120 non-null    object        \n",
            " 6   Current year of studying                              120 non-null    object        \n",
            " 7   Branch/Stream                                         120 non-null    object        \n",
            " 8   You have knowledge of / interested in / worked in     120 non-null    object        \n",
            " 9   Your Portfolio (drive link)   [optional]              21 non-null     object        \n",
            " 10  Github profile link                                   57 non-null     object        \n",
            "dtypes: datetime64[ns](1), object(10)\n",
            "memory usage: 11.4+ KB\n"
          ]
        }
      ]
    },
    {
      "cell_type": "markdown",
      "source": [
        "There are 3 unique values in 'You are a' column. Contibutor/To Learn and Contibutor/Learner are the same so we can replace Contributor/To Learn with Contributor/Learner"
      ],
      "metadata": {
        "id": "wtu1Svxp1rPw"
      }
    },
    {
      "cell_type": "code",
      "source": [
        "df['You are a'].replace('Contributor/To Learn','Contributor/Learner')"
      ],
      "metadata": {
        "colab": {
          "base_uri": "https://localhost:8080/"
        },
        "id": "r9EJRAqQ1783",
        "outputId": "7db97c2a-520c-4c41-8e7b-c09e0577cbbe"
      },
      "execution_count": null,
      "outputs": [
        {
          "output_type": "execute_result",
          "data": {
            "text/plain": [
              "0      Contributor/Learner\n",
              "1      Contributor/Learner\n",
              "2      Contributor/Learner\n",
              "3      Contributor/Learner\n",
              "4      Contributor/Learner\n",
              "              ...         \n",
              "117    Contributor/Learner\n",
              "118    Contributor/Learner\n",
              "120    Contributor/Learner\n",
              "121    Contributor/Learner\n",
              "122    Contributor/Learner\n",
              "Name: You are a, Length: 122, dtype: object"
            ]
          },
          "metadata": {},
          "execution_count": 84
        }
      ]
    },
    {
      "cell_type": "code",
      "source": [
        "df['Current year of studying'].value_counts()"
      ],
      "metadata": {
        "colab": {
          "base_uri": "https://localhost:8080/"
        },
        "id": "qKZJTO34ONIv",
        "outputId": "a7b18e94-1b8a-4cd5-8eaf-b7ae6ec51b8a"
      },
      "execution_count": null,
      "outputs": [
        {
          "output_type": "execute_result",
          "data": {
            "text/plain": [
              "2nd year    60\n",
              "1st year    36\n",
              "3rd year    21\n",
              "4th year     3\n",
              "Name: Current year of studying, dtype: int64"
            ]
          },
          "metadata": {},
          "execution_count": 85
        }
      ]
    },
    {
      "cell_type": "markdown",
      "source": [
        "We can now set some parameters for our plots"
      ],
      "metadata": {
        "id": "FK3I_oQ_FP6V"
      }
    },
    {
      "cell_type": "code",
      "source": [
        "sns.set_style('darkgrid')\n",
        "matplotlib.rcParams['font.size'] = 14\n",
        "matplotlib.rcParams['figure.figsize'] = (9, 5)\n",
        "matplotlib.rcParams['figure.facecolor'] = '#00000000'"
      ],
      "metadata": {
        "id": "yqMwdOkaPjR2"
      },
      "execution_count": null,
      "outputs": []
    },
    {
      "cell_type": "markdown",
      "source": [
        "# **CURRENT YEAR OF STUDYING**"
      ],
      "metadata": {
        "id": "XrYIB5-9RaFl"
      }
    },
    {
      "cell_type": "markdown",
      "source": [
        "Pie Chart to show the number of students from different years of graduation."
      ],
      "metadata": {
        "id": "W0RHvWEERKKq"
      }
    },
    {
      "cell_type": "code",
      "source": [
        "s=df['Current year of studying'].value_counts()\n",
        "label=['2nd year','1st year','3rd year','4th year']\n",
        "plt.pie(s,labels=label)\n",
        "plt.title(\"Current year of studying\")\n",
        "plt.legend(loc='upper left');"
      ],
      "metadata": {
        "colab": {
          "base_uri": "https://localhost:8080/",
          "height": 448
        },
        "id": "5C27B3Q9P4jv",
        "outputId": "4dd3af34-2924-452c-88b1-c0369cdcb892"
      },
      "execution_count": null,
      "outputs": [
        {
          "output_type": "display_data",
          "data": {
            "text/plain": [
              "<Figure size 900x500 with 1 Axes>"
            ],
            "image/png": "[encoded data removed]"
          },
          "metadata": {}
        }
      ]
    },
    {
      "cell_type": "markdown",
      "source": [
        "# **BRANCH/STREAM**"
      ],
      "metadata": {
        "id": "xUReGncfbAYl"
      }
    },
    {
      "cell_type": "markdown",
      "source": [
        "We will have to convert different forms of same branches written by different students in a standardized form."
      ],
      "metadata": {
        "id": "1QjB6tXwea47"
      }
    },
    {
      "cell_type": "code",
      "source": [
        "df['Branch/Stream'].replace(['cs','CS','cse','Cse','Computer science','Computer Science','Computer science and engineering ','Computer science and technology','Cse evening','Btech cse','BTech CSE','CSE4','Computer Science Engineering','B.Tech, CSE','B.Tech CSE','BTech in CSE','Computer Science & Engineering','Computer science ','Computer Science ','Computer science and technology ','Cse evening ','BTech CSE ','CSE ','CSE ','Computer Science Engineering ','Computer Science and Engineering ','Computer Science and technology ','Btech CSE'],'CSE',inplace= True)"
      ],
      "metadata": {
        "id": "pNgG8JwWQPUP"
      },
      "execution_count": null,
      "outputs": []
    },
    {
      "cell_type": "code",
      "source": [
        "df['Branch/Stream'].replace(['it','Information technology','It','IT-1','Information Technology','IT 1','Information technology ','Information Technology '],'IT',inplace=True)"
      ],
      "metadata": {
        "id": "X58gF0BMUgcU"
      },
      "execution_count": null,
      "outputs": []
    },
    {
      "cell_type": "code",
      "source": [
        "df['Branch/Stream'].replace(['bca','Bca','BCA SECOND year 4th sem ','Bca ','BCA '],'BCA',inplace=True)"
      ],
      "metadata": {
        "id": "LTyXuhOJXCQi"
      },
      "execution_count": null,
      "outputs": []
    },
    {
      "cell_type": "code",
      "source": [
        "df['Branch/Stream'].replace(['ece','ECE-1','Ece','Electronic and communication Engineering','Electronics and communication engineering (ECE)','Ece-E','ELECTRONICS AND COMMUNICATION ENGINEERING ','Electrical engineering ','Electronic and communication Engineering ','Electronics and communication engineering'],'ECE',inplace=True)"
      ],
      "metadata": {
        "id": "qlZc_3ywXhdq"
      },
      "execution_count": null,
      "outputs": []
    },
    {
      "cell_type": "code",
      "source": [
        "df['Branch/Stream'].replace('MAE ','MAE',inplace=True)"
      ],
      "metadata": {
        "id": "OTw5YqOHaw53"
      },
      "execution_count": null,
      "outputs": []
    },
    {
      "cell_type": "code",
      "source": [
        "df['Branch/Stream'].unique()"
      ],
      "metadata": {
        "colab": {
          "base_uri": "https://localhost:8080/"
        },
        "id": "DPQu5CuuVR_I",
        "outputId": "82bc6931-b6a2-41b9-9a2c-4b0a169ca841"
      },
      "execution_count": null,
      "outputs": [
        {
          "output_type": "execute_result",
          "data": {
            "text/plain": [
              "array(['CSE', 'IT', 'MAE', 'CST', 'BCA', nan, 'CSE AI ', 'ECE', 'BBA',\n",
              "       'Chemical Engineering', 'Mechanical Engineering ',\n",
              "       'Artificial intelligence and Data Science '], dtype=object)"
            ]
          },
          "metadata": {},
          "execution_count": 93
        }
      ]
    },
    {
      "cell_type": "code",
      "source": [
        "s1=df['Branch/Stream'].value_counts()\n",
        "s1"
      ],
      "metadata": {
        "colab": {
          "base_uri": "https://localhost:8080/"
        },
        "id": "0t2LoEkSbwlR",
        "outputId": "1266cdb0-d5f2-4526-8af9-7135d5fae931"
      },
      "execution_count": null,
      "outputs": [
        {
          "output_type": "execute_result",
          "data": {
            "text/plain": [
              "CSE                                          55\n",
              "IT                                           23\n",
              "BCA                                          21\n",
              "ECE                                          13\n",
              "MAE                                           2\n",
              "CST                                           1\n",
              "CSE AI                                        1\n",
              "BBA                                           1\n",
              "Chemical Engineering                          1\n",
              "Mechanical Engineering                        1\n",
              "Artificial intelligence and Data Science      1\n",
              "Name: Branch/Stream, dtype: int64"
            ]
          },
          "metadata": {},
          "execution_count": 94
        }
      ]
    },
    {
      "cell_type": "code",
      "source": [
        "plt.bar(s1.index,s1)\n",
        "plt.xticks(rotation=90)\n",
        "plt.xlabel('Branch/Stream')\n",
        "plt.ylabel('No of students')\n",
        "plt.title('Distribution of students across various branches/streams');"
      ],
      "metadata": {
        "colab": {
          "base_uri": "https://localhost:8080/",
          "height": 866
        },
        "id": "THCZJnqPYnsQ",
        "outputId": "5d9abd18-4381-425a-d1bd-bedc4d8d575c"
      },
      "execution_count": null,
      "outputs": [
        {
          "output_type": "display_data",
          "data": {
            "text/plain": [
              "<Figure size 900x500 with 1 Axes>"
            ],
            "image/png": "[encoded data removed]"
          },
          "metadata": {
            "needs_background": "light"
          }
        }
      ]
    },
    {
      "cell_type": "markdown",
      "source": [
        "# **Contribution**"
      ],
      "metadata": {
        "id": "xED5mTBWeTsG"
      }
    },
    {
      "cell_type": "markdown",
      "source": [
        "Let's define a helper function that turns a column containing lists of values (like df.Contribution) into a data frame with one column for each possible option."
      ],
      "metadata": {
        "id": "82lPSMzJFnVv"
      }
    },
    {
      "cell_type": "code",
      "source": [
        "def split_multicolumn(col_series):\n",
        "    result_df = col_series.to_frame()\n",
        "    options = []\n",
        "    # Iterate over the column\n",
        "    for idx, value  in col_series[col_series.notnull()].items():\n",
        "        # Break each value into list of options\n",
        "        for option in value.split(','):\n",
        "            # Add the option as a column to result\n",
        "            if not option in result_df.columns:\n",
        "                options.append(option)\n",
        "                result_df[option] = False\n",
        "            # Mark the value in the option column as True\n",
        "            result_df.at[idx, option] = True\n",
        "    return result_df[options]"
      ],
      "metadata": {
        "id": "h5XB6u-nFvwC"
      },
      "execution_count": null,
      "outputs": []
    },
    {
      "cell_type": "code",
      "source": [
        "new_df = split_multicolumn(df.Contribution)\n",
        "new_df"
      ],
      "metadata": {
        "colab": {
          "base_uri": "https://localhost:8080/",
          "height": 522
        },
        "id": "2p0BFsGg_rie",
        "outputId": "4a5c8225-937b-4c76-b90b-43487ab9c134"
      },
      "execution_count": null,
      "outputs": [
        {
          "output_type": "execute_result",
          "data": {
            "text/plain": [
              "     AI/ML   Product/Data Analyst   Design - ui/ux   etc.  Frontend   Backend  \\\n",
              "0     True                   True             True   True     False     False   \n",
              "1    False                  False            False  False     False     False   \n",
              "2    False                  False            False  False      True      True   \n",
              "3    False                  False            False  False      True     False   \n",
              "4    False                  False            False  False      True      True   \n",
              "..     ...                    ...              ...    ...       ...       ...   \n",
              "117  False                  False            False  False      True     False   \n",
              "118   True                  False            False  False     False     False   \n",
              "120  False                   True            False  False      True     False   \n",
              "121   True                   True            False  False     False     False   \n",
              "122  False                  False            False  False     False     False   \n",
              "\n",
              "      Content - of the app  Backend   AI/ML  Android   Frontend  \\\n",
              "0                    False    False   False    False      False   \n",
              "1                    False    False   False    False      False   \n",
              "2                    False    False   False    False      False   \n",
              "3                    False    False   False    False      False   \n",
              "4                     True    False   False    False      False   \n",
              "..                     ...      ...     ...      ...        ...   \n",
              "117                  False    False    True    False      False   \n",
              "118                  False    False   False    False      False   \n",
              "120                  False    False   False    False      False   \n",
              "121                  False    False   False    False      False   \n",
              "122                   True    False   False     True      False   \n",
              "\n",
              "     Product/Data Analyst  Content - of the app  Contributor/Learner  \n",
              "0                   False                 False                False  \n",
              "1                   False                 False                False  \n",
              "2                   False                 False                False  \n",
              "3                   False                 False                False  \n",
              "4                   False                 False                False  \n",
              "..                    ...                   ...                  ...  \n",
              "117                 False                 False                False  \n",
              "118                 False                 False                False  \n",
              "120                 False                 False                False  \n",
              "121                 False                 False                False  \n",
              "122                 False                 False                False  \n",
              "\n",
              "[122 rows x 14 columns]"
            ],
            "text/html": [
              "\n",
              "  <div id=\"df-8a92a7ef-c382-43a3-b918-7cc137fbf9fb\">\n",
              "    <div class=\"colab-df-container\">\n",
              "      <div>\n",
              "<style scoped>\n",
              "    .dataframe tbody tr th:only-of-type {\n",
              "        vertical-align: middle;\n",
              "    }\n",
              "\n",
              "    .dataframe tbody tr th {\n",
              "        vertical-align: top;\n",
              "    }\n",
              "\n",
              "    .dataframe thead th {\n",
              "        text-align: right;\n",
              "    }\n",
              "</style>\n",
              "<table border=\"1\" class=\"dataframe\">\n",
              "  <thead>\n",
              "    <tr style=\"text-align: right;\">\n",
              "      <th></th>\n",
              "      <th>AI/ML</th>\n",
              "      <th>Product/Data Analyst</th>\n",
              "      <th>Design - ui/ux</th>\n",
              "      <th>etc.</th>\n",
              "      <th>Frontend</th>\n",
              "      <th>Backend</th>\n",
              "      <th>Content - of the app</th>\n",
              "      <th>Backend</th>\n",
              "      <th>AI/ML</th>\n",
              "      <th>Android</th>\n",
              "      <th>Frontend</th>\n",
              "      <th>Product/Data Analyst</th>\n",
              "      <th>Content - of the app</th>\n",
              "      <th>Contributor/Learner</th>\n",
              "    </tr>\n",
              "  </thead>\n",
              "  <tbody>\n",
              "    <tr>\n",
              "      <th>0</th>\n",
              "      <td>True</td>\n",
              "      <td>True</td>\n",
              "      <td>True</td>\n",
              "      <td>True</td>\n",
              "      <td>False</td>\n",
              "      <td>False</td>\n",
              "      <td>False</td>\n",
              "      <td>False</td>\n",
              "      <td>False</td>\n",
              "      <td>False</td>\n",
              "      <td>False</td>\n",
              "      <td>False</td>\n",
              "      <td>False</td>\n",
              "      <td>False</td>\n",
              "    </tr>\n",
              "    <tr>\n",
              "      <th>1</th>\n",
              "      <td>False</td>\n",
              "      <td>False</td>\n",
              "      <td>False</td>\n",
              "      <td>False</td>\n",
              "      <td>False</td>\n",
              "      <td>False</td>\n",
              "      <td>False</td>\n",
              "      <td>False</td>\n",
              "      <td>False</td>\n",
              "      <td>False</td>\n",
              "      <td>False</td>\n",
              "      <td>False</td>\n",
              "      <td>False</td>\n",
              "      <td>False</td>\n",
              "    </tr>\n",
              "    <tr>\n",
              "      <th>2</th>\n",
              "      <td>False</td>\n",
              "      <td>False</td>\n",
              "      <td>False</td>\n",
              "      <td>False</td>\n",
              "      <td>True</td>\n",
              "      <td>True</td>\n",
              "      <td>False</td>\n",
              "      <td>False</td>\n",
              "      <td>False</td>\n",
              "      <td>False</td>\n",
              "      <td>False</td>\n",
              "      <td>False</td>\n",
              "      <td>False</td>\n",
              "      <td>False</td>\n",
              "    </tr>\n",
              "    <tr>\n",
              "      <th>3</th>\n",
              "      <td>False</td>\n",
              "      <td>False</td>\n",
              "      <td>False</td>\n",
              "      <td>False</td>\n",
              "      <td>True</td>\n",
              "      <td>False</td>\n",
              "      <td>False</td>\n",
              "      <td>False</td>\n",
              "      <td>False</td>\n",
              "      <td>False</td>\n",
              "      <td>False</td>\n",
              "      <td>False</td>\n",
              "      <td>False</td>\n",
              "      <td>False</td>\n",
              "    </tr>\n",
              "    <tr>\n",
              "      <th>4</th>\n",
              "      <td>False</td>\n",
              "      <td>False</td>\n",
              "      <td>False</td>\n",
              "      <td>False</td>\n",
              "      <td>True</td>\n",
              "      <td>True</td>\n",
              "      <td>True</td>\n",
              "      <td>False</td>\n",
              "      <td>False</td>\n",
              "      <td>False</td>\n",
              "      <td>False</td>\n",
              "      <td>False</td>\n",
              "      <td>False</td>\n",
              "      <td>False</td>\n",
              "    </tr>\n",
              "    <tr>\n",
              "      <th>...</th>\n",
              "      <td>...</td>\n",
              "      <td>...</td>\n",
              "      <td>...</td>\n",
              "      <td>...</td>\n",
              "      <td>...</td>\n",
              "      <td>...</td>\n",
              "      <td>...</td>\n",
              "      <td>...</td>\n",
              "      <td>...</td>\n",
              "      <td>...</td>\n",
              "      <td>...</td>\n",
              "      <td>...</td>\n",
              "      <td>...</td>\n",
              "      <td>...</td>\n",
              "    </tr>\n",
              "    <tr>\n",
              "      <th>117</th>\n",
              "      <td>False</td>\n",
              "      <td>False</td>\n",
              "      <td>False</td>\n",
              "      <td>False</td>\n",
              "      <td>True</td>\n",
              "      <td>False</td>\n",
              "      <td>False</td>\n",
              "      <td>False</td>\n",
              "      <td>True</td>\n",
              "      <td>False</td>\n",
              "      <td>False</td>\n",
              "      <td>False</td>\n",
              "      <td>False</td>\n",
              "      <td>False</td>\n",
              "    </tr>\n",
              "    <tr>\n",
              "      <th>118</th>\n",
              "      <td>True</td>\n",
              "      <td>False</td>\n",
              "      <td>False</td>\n",
              "      <td>False</td>\n",
              "      <td>False</td>\n",
              "      <td>False</td>\n",
              "      <td>False</td>\n",
              "      <td>False</td>\n",
              "      <td>False</td>\n",
              "      <td>False</td>\n",
              "      <td>False</td>\n",
              "      <td>False</td>\n",
              "      <td>False</td>\n",
              "      <td>False</td>\n",
              "    </tr>\n",
              "    <tr>\n",
              "      <th>120</th>\n",
              "      <td>False</td>\n",
              "      <td>True</td>\n",
              "      <td>False</td>\n",
              "      <td>False</td>\n",
              "      <td>True</td>\n",
              "      <td>False</td>\n",
              "      <td>False</td>\n",
              "      <td>False</td>\n",
              "      <td>False</td>\n",
              "      <td>False</td>\n",
              "      <td>False</td>\n",
              "      <td>False</td>\n",
              "      <td>False</td>\n",
              "      <td>False</td>\n",
              "    </tr>\n",
              "    <tr>\n",
              "      <th>121</th>\n",
              "      <td>True</td>\n",
              "      <td>True</td>\n",
              "      <td>False</td>\n",
              "      <td>False</td>\n",
              "      <td>False</td>\n",
              "      <td>False</td>\n",
              "      <td>False</td>\n",
              "      <td>False</td>\n",
              "      <td>False</td>\n",
              "      <td>False</td>\n",
              "      <td>False</td>\n",
              "      <td>False</td>\n",
              "      <td>False</td>\n",
              "      <td>False</td>\n",
              "    </tr>\n",
              "    <tr>\n",
              "      <th>122</th>\n",
              "      <td>False</td>\n",
              "      <td>False</td>\n",
              "      <td>False</td>\n",
              "      <td>False</td>\n",
              "      <td>False</td>\n",
              "      <td>False</td>\n",
              "      <td>True</td>\n",
              "      <td>False</td>\n",
              "      <td>False</td>\n",
              "      <td>True</td>\n",
              "      <td>False</td>\n",
              "      <td>False</td>\n",
              "      <td>False</td>\n",
              "      <td>False</td>\n",
              "    </tr>\n",
              "  </tbody>\n",
              "</table>\n",
              "<p>122 rows × 14 columns</p>\n",
              "</div>\n",
              "      <button class=\"colab-df-convert\" onclick=\"convertToInteractive('df-8a92a7ef-c382-43a3-b918-7cc137fbf9fb')\"\n",
              "              title=\"Convert this dataframe to an interactive table.\"\n",
              "              style=\"display:none;\">\n",
              "        \n",
              "  <svg xmlns=\"http://www.w3.org/2000/svg\" height=\"24px\"viewBox=\"0 0 24 24\"\n",
              "       width=\"24px\">\n",
              "    <path d=\"M0 0h24v24H0V0z\" fill=\"none\"/>\n",
              "    <path d=\"M18.56 5.44l.94 2.06.94-2.06 2.06-.94-2.06-.94-.94-2.06-.94 2.06-2.06.94zm-11 1L8.5 8.5l.94-2.06 2.06-.94-2.06-.94L8.5 2.5l-.94 2.06-2.06.94zm10 10l.94 2.06.94-2.06 2.06-.94-2.06-.94-.94-2.06-.94 2.06-2.06.94z\"/><path d=\"M17.41 7.96l-1.37-1.37c-.4-.4-.92-.59-1.43-.59-.52 0-1.04.2-1.43.59L10.3 9.45l-7.72 7.72c-.78.78-.78 2.05 0 2.83L4 21.41c.39.39.9.59 1.41.59.51 0 1.02-.2 1.41-.59l7.78-7.78 2.81-2.81c.8-.78.8-2.07 0-2.86zM5.41 20L4 18.59l7.72-7.72 1.47 1.35L5.41 20z\"/>\n",
              "  </svg>\n",
              "      </button>\n",
              "      \n",
              "  <style>\n",
              "    .colab-df-container {\n",
              "      display:flex;\n",
              "      flex-wrap:wrap;\n",
              "      gap: 12px;\n",
              "    }\n",
              "\n",
              "    .colab-df-convert {\n",
              "      background-color: #E8F0FE;\n",
              "      border: none;\n",
              "      border-radius: 50%;\n",
              "      cursor: pointer;\n",
              "      display: none;\n",
              "      fill: #1967D2;\n",
              "      height: 32px;\n",
              "      padding: 0 0 0 0;\n",
              "      width: 32px;\n",
              "    }\n",
              "\n",
              "    .colab-df-convert:hover {\n",
              "      background-color: #E2EBFA;\n",
              "      box-shadow: 0px 1px 2px rgba(60, 64, 67, 0.3), 0px 1px 3px 1px rgba(60, 64, 67, 0.15);\n",
              "      fill: #174EA6;\n",
              "    }\n",
              "\n",
              "    [theme=dark] .colab-df-convert {\n",
              "      background-color: #3B4455;\n",
              "      fill: #D2E3FC;\n",
              "    }\n",
              "\n",
              "    [theme=dark] .colab-df-convert:hover {\n",
              "      background-color: #434B5C;\n",
              "      box-shadow: 0px 1px 3px 1px rgba(0, 0, 0, 0.15);\n",
              "      filter: drop-shadow(0px 1px 2px rgba(0, 0, 0, 0.3));\n",
              "      fill: #FFFFFF;\n",
              "    }\n",
              "  </style>\n",
              "\n",
              "      <script>\n",
              "        const buttonEl =\n",
              "          document.querySelector('#df-8a92a7ef-c382-43a3-b918-7cc137fbf9fb button.colab-df-convert');\n",
              "        buttonEl.style.display =\n",
              "          google.colab.kernel.accessAllowed ? 'block' : 'none';\n",
              "\n",
              "        async function convertToInteractive(key) {\n",
              "          const element = document.querySelector('#df-8a92a7ef-c382-43a3-b918-7cc137fbf9fb');\n",
              "          const dataTable =\n",
              "            await google.colab.kernel.invokeFunction('convertToInteractive',\n",
              "                                                     [key], {});\n",
              "          if (!dataTable) return;\n",
              "\n",
              "          const docLinkHtml = 'Like what you see? Visit the ' +\n",
              "            '<a target=\"_blank\" href=https://colab.research.google.com/notebooks/data_table.ipynb>data table notebook</a>'\n",
              "            + ' to learn more about interactive tables.';\n",
              "          element.innerHTML = '';\n",
              "          dataTable['output_type'] = 'display_data';\n",
              "          await google.colab.output.renderOutput(dataTable, element);\n",
              "          const docLink = document.createElement('div');\n",
              "          docLink.innerHTML = docLinkHtml;\n",
              "          element.appendChild(docLink);\n",
              "        }\n",
              "      </script>\n",
              "    </div>\n",
              "  </div>\n",
              "  "
            ]
          },
          "metadata": {},
          "execution_count": 124
        }
      ]
    },
    {
      "cell_type": "markdown",
      "source": [
        "The new_df has one column for each option that can be selected as a response. If a respondent has chosen an option, the corresponding column's value is True. Otherwise, it is False. And the values of each row in df.Contribution are split by comma."
      ],
      "metadata": {
        "id": "73HrCLaJF91m"
      }
    },
    {
      "cell_type": "code",
      "source": [
        "new_df.columns"
      ],
      "metadata": {
        "colab": {
          "base_uri": "https://localhost:8080/"
        },
        "id": "9PxCGgT7BO1V",
        "outputId": "79c37831-b2d2-4b15-df17-951d9393cc64"
      },
      "execution_count": null,
      "outputs": [
        {
          "output_type": "execute_result",
          "data": {
            "text/plain": [
              "Index(['AI/ML', ' Product/Data Analyst', ' Design - ui/ux', ' etc.',\n",
              "       'Frontend', ' Backend', ' Content - of the app', 'Backend', ' AI/ML',\n",
              "       'Android', ' Frontend', 'Product/Data Analyst', 'Content - of the app',\n",
              "       'Contributor/Learner'],\n",
              "      dtype='object')"
            ]
          },
          "metadata": {},
          "execution_count": 104
        }
      ]
    },
    {
      "cell_type": "markdown",
      "source": [
        "Since, etc. and Contributor/Learner are not appropriate responses for contribution domain, we can drop them"
      ],
      "metadata": {
        "id": "0qjMFj2vGLpf"
      }
    },
    {
      "cell_type": "code",
      "source": [
        "new_df.drop([' etc.','Contributor/Learner'],inplace=True,axis=1)"
      ],
      "metadata": {
        "id": "-Nx_-hkH_1gx"
      },
      "execution_count": null,
      "outputs": []
    },
    {
      "cell_type": "code",
      "source": [
        "new_df"
      ],
      "metadata": {
        "colab": {
          "base_uri": "https://localhost:8080/",
          "height": 502
        },
        "id": "O7YPaImvA_WK",
        "outputId": "fc8712b7-6d95-43cc-e1ee-1d408cf20d9b"
      },
      "execution_count": null,
      "outputs": [
        {
          "output_type": "execute_result",
          "data": {
            "text/plain": [
              "     AI/ML   Product/Data Analyst   Design - ui/ux  Frontend   Backend  \\\n",
              "0     True                   True             True     False     False   \n",
              "1    False                  False            False     False     False   \n",
              "2    False                  False            False      True      True   \n",
              "3    False                  False            False      True     False   \n",
              "4    False                  False            False      True      True   \n",
              "..     ...                    ...              ...       ...       ...   \n",
              "117  False                  False            False      True     False   \n",
              "118   True                  False            False     False     False   \n",
              "120  False                   True            False      True     False   \n",
              "121   True                   True            False     False     False   \n",
              "122  False                  False            False     False     False   \n",
              "\n",
              "      Content - of the app  Backend   AI/ML  Android   Frontend  \\\n",
              "0                    False    False   False    False      False   \n",
              "1                    False    False   False    False      False   \n",
              "2                    False    False   False    False      False   \n",
              "3                    False    False   False    False      False   \n",
              "4                     True    False   False    False      False   \n",
              "..                     ...      ...     ...      ...        ...   \n",
              "117                  False    False    True    False      False   \n",
              "118                  False    False   False    False      False   \n",
              "120                  False    False   False    False      False   \n",
              "121                  False    False   False    False      False   \n",
              "122                   True    False   False     True      False   \n",
              "\n",
              "     Product/Data Analyst  Content - of the app  \n",
              "0                   False                 False  \n",
              "1                   False                 False  \n",
              "2                   False                 False  \n",
              "3                   False                 False  \n",
              "4                   False                 False  \n",
              "..                    ...                   ...  \n",
              "117                 False                 False  \n",
              "118                 False                 False  \n",
              "120                 False                 False  \n",
              "121                 False                 False  \n",
              "122                 False                 False  \n",
              "\n",
              "[122 rows x 12 columns]"
            ],
            "text/html": [
              "\n",
              "  <div id=\"df-61f98a84-5e74-46e8-9833-4623c7ec2237\">\n",
              "    <div class=\"colab-df-container\">\n",
              "      <div>\n",
              "<style scoped>\n",
              "    .dataframe tbody tr th:only-of-type {\n",
              "        vertical-align: middle;\n",
              "    }\n",
              "\n",
              "    .dataframe tbody tr th {\n",
              "        vertical-align: top;\n",
              "    }\n",
              "\n",
              "    .dataframe thead th {\n",
              "        text-align: right;\n",
              "    }\n",
              "</style>\n",
              "<table border=\"1\" class=\"dataframe\">\n",
              "  <thead>\n",
              "    <tr style=\"text-align: right;\">\n",
              "      <th></th>\n",
              "      <th>AI/ML</th>\n",
              "      <th>Product/Data Analyst</th>\n",
              "      <th>Design - ui/ux</th>\n",
              "      <th>Frontend</th>\n",
              "      <th>Backend</th>\n",
              "      <th>Content - of the app</th>\n",
              "      <th>Backend</th>\n",
              "      <th>AI/ML</th>\n",
              "      <th>Android</th>\n",
              "      <th>Frontend</th>\n",
              "      <th>Product/Data Analyst</th>\n",
              "      <th>Content - of the app</th>\n",
              "    </tr>\n",
              "  </thead>\n",
              "  <tbody>\n",
              "    <tr>\n",
              "      <th>0</th>\n",
              "      <td>True</td>\n",
              "      <td>True</td>\n",
              "      <td>True</td>\n",
              "      <td>False</td>\n",
              "      <td>False</td>\n",
              "      <td>False</td>\n",
              "      <td>False</td>\n",
              "      <td>False</td>\n",
              "      <td>False</td>\n",
              "      <td>False</td>\n",
              "      <td>False</td>\n",
              "      <td>False</td>\n",
              "    </tr>\n",
              "    <tr>\n",
              "      <th>1</th>\n",
              "      <td>False</td>\n",
              "      <td>False</td>\n",
              "      <td>False</td>\n",
              "      <td>False</td>\n",
              "      <td>False</td>\n",
              "      <td>False</td>\n",
              "      <td>False</td>\n",
              "      <td>False</td>\n",
              "      <td>False</td>\n",
              "      <td>False</td>\n",
              "      <td>False</td>\n",
              "      <td>False</td>\n",
              "    </tr>\n",
              "    <tr>\n",
              "      <th>2</th>\n",
              "      <td>False</td>\n",
              "      <td>False</td>\n",
              "      <td>False</td>\n",
              "      <td>True</td>\n",
              "      <td>True</td>\n",
              "      <td>False</td>\n",
              "      <td>False</td>\n",
              "      <td>False</td>\n",
              "      <td>False</td>\n",
              "      <td>False</td>\n",
              "      <td>False</td>\n",
              "      <td>False</td>\n",
              "    </tr>\n",
              "    <tr>\n",
              "      <th>3</th>\n",
              "      <td>False</td>\n",
              "      <td>False</td>\n",
              "      <td>False</td>\n",
              "      <td>True</td>\n",
              "      <td>False</td>\n",
              "      <td>False</td>\n",
              "      <td>False</td>\n",
              "      <td>False</td>\n",
              "      <td>False</td>\n",
              "      <td>False</td>\n",
              "      <td>False</td>\n",
              "      <td>False</td>\n",
              "    </tr>\n",
              "    <tr>\n",
              "      <th>4</th>\n",
              "      <td>False</td>\n",
              "      <td>False</td>\n",
              "      <td>False</td>\n",
              "      <td>True</td>\n",
              "      <td>True</td>\n",
              "      <td>True</td>\n",
              "      <td>False</td>\n",
              "      <td>False</td>\n",
              "      <td>False</td>\n",
              "      <td>False</td>\n",
              "      <td>False</td>\n",
              "      <td>False</td>\n",
              "    </tr>\n",
              "    <tr>\n",
              "      <th>...</th>\n",
              "      <td>...</td>\n",
              "      <td>...</td>\n",
              "      <td>...</td>\n",
              "      <td>...</td>\n",
              "      <td>...</td>\n",
              "      <td>...</td>\n",
              "      <td>...</td>\n",
              "      <td>...</td>\n",
              "      <td>...</td>\n",
              "      <td>...</td>\n",
              "      <td>...</td>\n",
              "      <td>...</td>\n",
              "    </tr>\n",
              "    <tr>\n",
              "      <th>117</th>\n",
              "      <td>False</td>\n",
              "      <td>False</td>\n",
              "      <td>False</td>\n",
              "      <td>True</td>\n",
              "      <td>False</td>\n",
              "      <td>False</td>\n",
              "      <td>False</td>\n",
              "      <td>True</td>\n",
              "      <td>False</td>\n",
              "      <td>False</td>\n",
              "      <td>False</td>\n",
              "      <td>False</td>\n",
              "    </tr>\n",
              "    <tr>\n",
              "      <th>118</th>\n",
              "      <td>True</td>\n",
              "      <td>False</td>\n",
              "      <td>False</td>\n",
              "      <td>False</td>\n",
              "      <td>False</td>\n",
              "      <td>False</td>\n",
              "      <td>False</td>\n",
              "      <td>False</td>\n",
              "      <td>False</td>\n",
              "      <td>False</td>\n",
              "      <td>False</td>\n",
              "      <td>False</td>\n",
              "    </tr>\n",
              "    <tr>\n",
              "      <th>120</th>\n",
              "      <td>False</td>\n",
              "      <td>True</td>\n",
              "      <td>False</td>\n",
              "      <td>True</td>\n",
              "      <td>False</td>\n",
              "      <td>False</td>\n",
              "      <td>False</td>\n",
              "      <td>False</td>\n",
              "      <td>False</td>\n",
              "      <td>False</td>\n",
              "      <td>False</td>\n",
              "      <td>False</td>\n",
              "    </tr>\n",
              "    <tr>\n",
              "      <th>121</th>\n",
              "      <td>True</td>\n",
              "      <td>True</td>\n",
              "      <td>False</td>\n",
              "      <td>False</td>\n",
              "      <td>False</td>\n",
              "      <td>False</td>\n",
              "      <td>False</td>\n",
              "      <td>False</td>\n",
              "      <td>False</td>\n",
              "      <td>False</td>\n",
              "      <td>False</td>\n",
              "      <td>False</td>\n",
              "    </tr>\n",
              "    <tr>\n",
              "      <th>122</th>\n",
              "      <td>False</td>\n",
              "      <td>False</td>\n",
              "      <td>False</td>\n",
              "      <td>False</td>\n",
              "      <td>False</td>\n",
              "      <td>True</td>\n",
              "      <td>False</td>\n",
              "      <td>False</td>\n",
              "      <td>True</td>\n",
              "      <td>False</td>\n",
              "      <td>False</td>\n",
              "      <td>False</td>\n",
              "    </tr>\n",
              "  </tbody>\n",
              "</table>\n",
              "<p>122 rows × 12 columns</p>\n",
              "</div>\n",
              "      <button class=\"colab-df-convert\" onclick=\"convertToInteractive('df-61f98a84-5e74-46e8-9833-4623c7ec2237')\"\n",
              "              title=\"Convert this dataframe to an interactive table.\"\n",
              "              style=\"display:none;\">\n",
              "        \n",
              "  <svg xmlns=\"http://www.w3.org/2000/svg\" height=\"24px\"viewBox=\"0 0 24 24\"\n",
              "       width=\"24px\">\n",
              "    <path d=\"M0 0h24v24H0V0z\" fill=\"none\"/>\n",
              "    <path d=\"M18.56 5.44l.94 2.06.94-2.06 2.06-.94-2.06-.94-.94-2.06-.94 2.06-2.06.94zm-11 1L8.5 8.5l.94-2.06 2.06-.94-2.06-.94L8.5 2.5l-.94 2.06-2.06.94zm10 10l.94 2.06.94-2.06 2.06-.94-2.06-.94-.94-2.06-.94 2.06-2.06.94z\"/><path d=\"M17.41 7.96l-1.37-1.37c-.4-.4-.92-.59-1.43-.59-.52 0-1.04.2-1.43.59L10.3 9.45l-7.72 7.72c-.78.78-.78 2.05 0 2.83L4 21.41c.39.39.9.59 1.41.59.51 0 1.02-.2 1.41-.59l7.78-7.78 2.81-2.81c.8-.78.8-2.07 0-2.86zM5.41 20L4 18.59l7.72-7.72 1.47 1.35L5.41 20z\"/>\n",
              "  </svg>\n",
              "      </button>\n",
              "      \n",
              "  <style>\n",
              "    .colab-df-container {\n",
              "      display:flex;\n",
              "      flex-wrap:wrap;\n",
              "      gap: 12px;\n",
              "    }\n",
              "\n",
              "    .colab-df-convert {\n",
              "      background-color: #E8F0FE;\n",
              "      border: none;\n",
              "      border-radius: 50%;\n",
              "      cursor: pointer;\n",
              "      display: none;\n",
              "      fill: #1967D2;\n",
              "      height: 32px;\n",
              "      padding: 0 0 0 0;\n",
              "      width: 32px;\n",
              "    }\n",
              "\n",
              "    .colab-df-convert:hover {\n",
              "      background-color: #E2EBFA;\n",
              "      box-shadow: 0px 1px 2px rgba(60, 64, 67, 0.3), 0px 1px 3px 1px rgba(60, 64, 67, 0.15);\n",
              "      fill: #174EA6;\n",
              "    }\n",
              "\n",
              "    [theme=dark] .colab-df-convert {\n",
              "      background-color: #3B4455;\n",
              "      fill: #D2E3FC;\n",
              "    }\n",
              "\n",
              "    [theme=dark] .colab-df-convert:hover {\n",
              "      background-color: #434B5C;\n",
              "      box-shadow: 0px 1px 3px 1px rgba(0, 0, 0, 0.15);\n",
              "      filter: drop-shadow(0px 1px 2px rgba(0, 0, 0, 0.3));\n",
              "      fill: #FFFFFF;\n",
              "    }\n",
              "  </style>\n",
              "\n",
              "      <script>\n",
              "        const buttonEl =\n",
              "          document.querySelector('#df-61f98a84-5e74-46e8-9833-4623c7ec2237 button.colab-df-convert');\n",
              "        buttonEl.style.display =\n",
              "          google.colab.kernel.accessAllowed ? 'block' : 'none';\n",
              "\n",
              "        async function convertToInteractive(key) {\n",
              "          const element = document.querySelector('#df-61f98a84-5e74-46e8-9833-4623c7ec2237');\n",
              "          const dataTable =\n",
              "            await google.colab.kernel.invokeFunction('convertToInteractive',\n",
              "                                                     [key], {});\n",
              "          if (!dataTable) return;\n",
              "\n",
              "          const docLinkHtml = 'Like what you see? Visit the ' +\n",
              "            '<a target=\"_blank\" href=https://colab.research.google.com/notebooks/data_table.ipynb>data table notebook</a>'\n",
              "            + ' to learn more about interactive tables.';\n",
              "          element.innerHTML = '';\n",
              "          dataTable['output_type'] = 'display_data';\n",
              "          await google.colab.output.renderOutput(dataTable, element);\n",
              "          const docLink = document.createElement('div');\n",
              "          docLink.innerHTML = docLinkHtml;\n",
              "          element.appendChild(docLink);\n",
              "        }\n",
              "      </script>\n",
              "    </div>\n",
              "  </div>\n",
              "  "
            ]
          },
          "metadata": {},
          "execution_count": 126
        }
      ]
    },
    {
      "cell_type": "markdown",
      "source": [
        "We can now use the column-wise totals to identify the most common roles."
      ],
      "metadata": {
        "id": "j8P1Qg6aGf8L"
      }
    },
    {
      "cell_type": "code",
      "source": [
        "new_totals = new_df.sum().sort_values(ascending=False)\n",
        "new_totals"
      ],
      "metadata": {
        "colab": {
          "base_uri": "https://localhost:8080/"
        },
        "id": "Guxo5CAaBiXF",
        "outputId": "239612b6-35ad-4495-d177-2b7bff573597"
      },
      "execution_count": null,
      "outputs": [
        {
          "output_type": "execute_result",
          "data": {
            "text/plain": [
              "Frontend                 72\n",
              " Backend                 33\n",
              "AI/ML                    19\n",
              "Android                  18\n",
              " Design - ui/ux          14\n",
              " AI/ML                   12\n",
              " Content - of the app    11\n",
              " Product/Data Analyst    10\n",
              "Backend                   7\n",
              " Frontend                 2\n",
              "Content - of the app      2\n",
              "Product/Data Analyst      1\n",
              "dtype: int64"
            ]
          },
          "metadata": {},
          "execution_count": 108
        }
      ]
    },
    {
      "cell_type": "code",
      "source": [
        "type(new_totals)"
      ],
      "metadata": {
        "colab": {
          "base_uri": "https://localhost:8080/"
        },
        "id": "LT9hcHRwBuz_",
        "outputId": "ab16da57-ac59-4bc9-b1f1-29d522f54d9f"
      },
      "execution_count": null,
      "outputs": [
        {
          "output_type": "execute_result",
          "data": {
            "text/plain": [
              "pandas.core.series.Series"
            ]
          },
          "metadata": {},
          "execution_count": 109
        }
      ]
    },
    {
      "cell_type": "code",
      "source": [
        "new_series = pd.Series(new_totals.values, index=new_totals.index.str.strip())\n",
        "new_series"
      ],
      "metadata": {
        "colab": {
          "base_uri": "https://localhost:8080/"
        },
        "id": "TyaTVuj0C_rl",
        "outputId": "785a2321-b44f-47c6-c578-620adf00c684"
      },
      "execution_count": null,
      "outputs": [
        {
          "output_type": "execute_result",
          "data": {
            "text/plain": [
              "Frontend                72\n",
              "Backend                 33\n",
              "AI/ML                   19\n",
              "Android                 18\n",
              "Design - ui/ux          14\n",
              "AI/ML                   12\n",
              "Content - of the app    11\n",
              "Product/Data Analyst    10\n",
              "Backend                  7\n",
              "Frontend                 2\n",
              "Content - of the app     2\n",
              "Product/Data Analyst     1\n",
              "dtype: int64"
            ]
          },
          "metadata": {},
          "execution_count": 118
        }
      ]
    },
    {
      "cell_type": "code",
      "source": [
        "combined_totals = new_series.groupby(level=0).sum()\n",
        "combined_totals"
      ],
      "metadata": {
        "colab": {
          "base_uri": "https://localhost:8080/"
        },
        "id": "umbPAdwPB41p",
        "outputId": "0d6cb081-4802-4184-cefc-e1297494b46e"
      },
      "execution_count": null,
      "outputs": [
        {
          "output_type": "execute_result",
          "data": {
            "text/plain": [
              "AI/ML                   31\n",
              "Android                 18\n",
              "Backend                 40\n",
              "Content - of the app    13\n",
              "Design - ui/ux          14\n",
              "Frontend                74\n",
              "Product/Data Analyst    11\n",
              "dtype: int64"
            ]
          },
          "metadata": {},
          "execution_count": 119
        }
      ]
    },
    {
      "cell_type": "code",
      "source": [
        "plt.bar(combined_totals.index,combined_totals,color='pink')\n",
        "plt.xticks(rotation=90)\n",
        "plt.xlabel('Contribution Domain')\n",
        "plt.title('Distribution of students across various contribution domains');"
      ],
      "metadata": {
        "colab": {
          "base_uri": "https://localhost:8080/",
          "height": 687
        },
        "id": "QfjwtjRhCRuw",
        "outputId": "7bc2d74a-b5f7-4da3-dd67-5f95e003108f"
      },
      "execution_count": null,
      "outputs": [
        {
          "output_type": "display_data",
          "data": {
            "text/plain": [
              "<Figure size 900x500 with 1 Axes>"
            ],
            "image/png": "[encoded data removed]"
          },
          "metadata": {
            "needs_background": "light"
          }
        }
      ]
    },
    {
      "cell_type": "code",
      "source": [],
      "metadata": {
        "id": "90RbUg2yEwwt"
      },
      "execution_count": null,
      "outputs": []
    }
  ]
}